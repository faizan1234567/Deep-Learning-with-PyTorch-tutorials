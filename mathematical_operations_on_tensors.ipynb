{
 "cells": [
  {
   "cell_type": "markdown",
   "id": "237a5c0d",
   "metadata": {},
   "source": [
    "# Mathematical Operations on tensors\n",
    "In this tutorial, following topics will be covered:\n",
    "## Contents of the Tutorial\n",
    "- mathematical operations\n",
    "   - Addition\n",
    "   - Subtraction\n",
    "   - Multiplication\n",
    "   - Division\n",
    "   - Exponent\n",
    "- Concatenating Tensors\n",
    "   - Along rows\n",
    "   - Along Columns \n",
    "\n",
    "- Binary Tensors \n",
    "- Broadcasting Mechanism\n",
    "- Indexing and Slicing\n"
   ]
  },
  {
   "cell_type": "code",
   "execution_count": 7,
   "id": "98d9b41b",
   "metadata": {},
   "outputs": [],
   "source": [
    "# import neccessary packages\n",
    "import torch"
   ]
  },
  {
   "cell_type": "markdown",
   "id": "ba8ec5a5",
   "metadata": {},
   "source": [
    "# Mathematical operations \n",
    "1. Addition"
   ]
  },
  {
   "cell_type": "code",
   "execution_count": 8,
   "id": "578edcf6",
   "metadata": {},
   "outputs": [
    {
     "data": {
      "text/plain": [
       "(tensor([[ 0.,  1.,  2.,  3.],\n",
       "         [ 4.,  5.,  6.,  7.],\n",
       "         [ 8.,  9., 10., 11.]]),\n",
       " tensor([[1., 2., 3., 4.],\n",
       "         [4., 5., 6., 5.],\n",
       "         [7., 8., 9., 1.]]))"
      ]
     },
     "execution_count": 8,
     "metadata": {},
     "output_type": "execute_result"
    }
   ],
   "source": [
    "X = torch.arange(12, dtype = torch.float32).reshape(3, 4)\n",
    "Y = torch.tensor([[1, 2, 3, 4],\n",
    "                  [4, 5, 6, 5],\n",
    "                  [7, 8, 9, 1]], dtype = torch.float32)\n",
    "X, Y"
   ]
  },
  {
   "cell_type": "code",
   "execution_count": 9,
   "id": "abee383e",
   "metadata": {},
   "outputs": [
    {
     "data": {
      "text/plain": [
       "tensor([[ 1.,  3.,  5.,  7.],\n",
       "        [ 8., 10., 12., 12.],\n",
       "        [15., 17., 19., 12.]])"
      ]
     },
     "execution_count": 9,
     "metadata": {},
     "output_type": "execute_result"
    }
   ],
   "source": [
    "X+Y    # element-wise sum"
   ]
  },
  {
   "cell_type": "markdown",
   "id": "c97d4cdd",
   "metadata": {},
   "source": [
    "2. Subtraction    "
   ]
  },
  {
   "cell_type": "code",
   "execution_count": 10,
   "id": "5d88da12",
   "metadata": {},
   "outputs": [
    {
     "data": {
      "text/plain": [
       "tensor([[-1., -1., -1., -1.],\n",
       "        [ 0.,  0.,  0.,  2.],\n",
       "        [ 1.,  1.,  1., 10.]])"
      ]
     },
     "execution_count": 10,
     "metadata": {},
     "output_type": "execute_result"
    }
   ],
   "source": [
    "X-Y# element-wise subtraction"
   ]
  },
  {
   "cell_type": "markdown",
   "id": "5dde8643",
   "metadata": {},
   "source": [
    "3. Multiplication"
   ]
  },
  {
   "cell_type": "code",
   "execution_count": 11,
   "id": "2a2f8169",
   "metadata": {},
   "outputs": [
    {
     "data": {
      "text/plain": [
       "tensor([[ 0.,  2.,  6., 12.],\n",
       "        [16., 25., 36., 35.],\n",
       "        [56., 72., 90., 11.]])"
      ]
     },
     "execution_count": 11,
     "metadata": {},
     "output_type": "execute_result"
    }
   ],
   "source": [
    "X*Y # element-wise Multiplication"
   ]
  },
  {
   "cell_type": "markdown",
   "id": "1179195a",
   "metadata": {},
   "source": [
    "4. Division"
   ]
  },
  {
   "cell_type": "code",
   "execution_count": 12,
   "id": "36cea637",
   "metadata": {},
   "outputs": [
    {
     "data": {
      "text/plain": [
       "tensor([[ 0.0000,  0.5000,  0.6667,  0.7500],\n",
       "        [ 1.0000,  1.0000,  1.0000,  1.4000],\n",
       "        [ 1.1429,  1.1250,  1.1111, 11.0000]])"
      ]
     },
     "execution_count": 12,
     "metadata": {},
     "output_type": "execute_result"
    }
   ],
   "source": [
    "X/Y  # element-wise Division\n"
   ]
  },
  {
   "cell_type": "markdown",
   "id": "9e6e672f",
   "metadata": {},
   "source": [
    "# Tensor Concatenation"
   ]
  },
  {
   "cell_type": "code",
   "execution_count": 14,
   "id": "507e6d51",
   "metadata": {},
   "outputs": [
    {
     "name": "stdout",
     "output_type": "stream",
     "text": [
      "shape of the concatenated tensor: torch.Size([6, 4])\n"
     ]
    },
    {
     "data": {
      "text/plain": [
       "tensor([[ 0.,  1.,  2.,  3.,  1.,  2.,  3.,  4.],\n",
       "        [ 4.,  5.,  6.,  7.,  4.,  5.,  6.,  5.],\n",
       "        [ 8.,  9., 10., 11.,  7.,  8.,  9.,  1.]])"
      ]
     },
     "execution_count": 14,
     "metadata": {},
     "output_type": "execute_result"
    }
   ],
   "source": [
    "Z = torch.concat((X, Y), axis=0)\n",
    "S = torch.concat((X, Y), axis=1)\n",
    "\n",
    "print(f'shape of the concatenated tensor: {Z.shape}')\n",
    "S"
   ]
  },
  {
   "cell_type": "markdown",
   "id": "300cdf51",
   "metadata": {},
   "source": [
    "# Check if the elements in two tensors are equal"
   ]
  },
  {
   "cell_type": "code",
   "execution_count": 15,
   "id": "a9c1ace5",
   "metadata": {},
   "outputs": [
    {
     "data": {
      "text/plain": [
       "tensor(66.)"
      ]
     },
     "execution_count": 15,
     "metadata": {},
     "output_type": "execute_result"
    }
   ],
   "source": [
    "\n",
    "X.sum()"
   ]
  },
  {
   "cell_type": "markdown",
   "id": "c3b3f257",
   "metadata": {},
   "source": [
    "# Broadcasting Mechanism \n",
    "Adding two tensor with different shapes\n"
   ]
  },
  {
   "cell_type": "code",
   "execution_count": 17,
   "id": "5963a27c",
   "metadata": {},
   "outputs": [
    {
     "data": {
      "text/plain": [
       "(tensor([[0],\n",
       "         [1],\n",
       "         [2]]),\n",
       " tensor([[0, 1]]))"
      ]
     },
     "execution_count": 17,
     "metadata": {},
     "output_type": "execute_result"
    }
   ],
   "source": [
    "a = torch.arange(3).reshape((3, 1))\n",
    "b = torch.arange(2).reshape((1, 2))\n",
    "\n",
    "a, b"
   ]
  },
  {
   "cell_type": "code",
   "execution_count": 18,
   "id": "d631046e",
   "metadata": {},
   "outputs": [
    {
     "data": {
      "text/plain": [
       "tensor([[0, 1],\n",
       "        [1, 2],\n",
       "        [2, 3]])"
      ]
     },
     "execution_count": 18,
     "metadata": {},
     "output_type": "execute_result"
    }
   ],
   "source": [
    "a + b                 #broadcasting here"
   ]
  },
  {
   "cell_type": "markdown",
   "id": "fcb5907f",
   "metadata": {},
   "source": [
    "# Indexing and slicing\n"
   ]
  },
  {
   "cell_type": "code",
   "execution_count": 19,
   "id": "93e60ddd",
   "metadata": {},
   "outputs": [
    {
     "data": {
      "text/plain": [
       "(tensor([ 8.,  9., 10., 11.]),\n",
       " tensor([[ 4.,  5.,  6.,  7.],\n",
       "         [ 8.,  9., 10., 11.]]))"
      ]
     },
     "execution_count": 19,
     "metadata": {},
     "output_type": "execute_result"
    }
   ],
   "source": [
    "X[-1], X[1:3]"
   ]
  },
  {
   "cell_type": "code",
   "execution_count": 20,
   "id": "98110daa",
   "metadata": {},
   "outputs": [
    {
     "data": {
      "text/plain": [
       "tensor([[ 0.,  1.,  2.,  3.],\n",
       "        [ 4.,  5.,  6.,  7.],\n",
       "        [ 8.,  9., 10., 11.]])"
      ]
     },
     "execution_count": 20,
     "metadata": {},
     "output_type": "execute_result"
    }
   ],
   "source": [
    "X"
   ]
  },
  {
   "cell_type": "code",
   "execution_count": 22,
   "id": "25d15dff",
   "metadata": {},
   "outputs": [
    {
     "data": {
      "text/plain": [
       "tensor([[ 0.,  1.,  2.,  3.],\n",
       "        [ 4.,  5.,  8.,  7.],\n",
       "        [ 8.,  9., 10., 11.]])"
      ]
     },
     "execution_count": 22,
     "metadata": {},
     "output_type": "execute_result"
    }
   ],
   "source": [
    "X[1, 2] = 8\n",
    "X"
   ]
  },
  {
   "cell_type": "code",
   "execution_count": 23,
   "id": "6031cbea",
   "metadata": {},
   "outputs": [
    {
     "data": {
      "text/plain": [
       "tensor([[ 7.,  7.,  7.,  7.],\n",
       "        [ 7.,  7.,  7.,  7.],\n",
       "        [ 8.,  9., 10., 11.]])"
      ]
     },
     "execution_count": 23,
     "metadata": {},
     "output_type": "execute_result"
    }
   ],
   "source": [
    "X[0:2, :] = 7\n",
    "X"
   ]
  },
  {
   "cell_type": "markdown",
   "id": "08cba804",
   "metadata": {},
   "source": [
    "# The End"
   ]
  }
 ],
 "metadata": {
  "kernelspec": {
   "display_name": "Python 3 (ipykernel)",
   "language": "python",
   "name": "python3"
  },
  "language_info": {
   "codemirror_mode": {
    "name": "ipython",
    "version": 3
   },
   "file_extension": ".py",
   "mimetype": "text/x-python",
   "name": "python",
   "nbconvert_exporter": "python",
   "pygments_lexer": "ipython3",
   "version": "3.9.5"
  }
 },
 "nbformat": 4,
 "nbformat_minor": 5
}
