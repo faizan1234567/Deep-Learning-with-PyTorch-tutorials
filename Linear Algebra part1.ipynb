{
 "cells": [
  {
   "cell_type": "markdown",
   "id": "c961ef7f",
   "metadata": {},
   "source": [
    "# Linear Algebra\n",
    "in this tutorial, let's briefly review the linear algebra that you will need to understand and implement most of the machine learning models. In this video, following topics will be covered\n",
    "- Scalar\n",
    "- Matrices\n",
    "- Tensors"
   ]
  },
  {
   "cell_type": "code",
   "execution_count": 25,
   "id": "0ca3c455",
   "metadata": {},
   "outputs": [],
   "source": [
    "import torch\n",
    "import numpy as np\n"
   ]
  },
  {
   "cell_type": "markdown",
   "id": "11f8d73d",
   "metadata": {},
   "source": [
    "# Scalar\n",
    "A scalar value is numerical quantity. For instance, the temperature in New York is 52 Fahrenheit. To convert from Fahrenheit to Celsius, we use c = 5/9*(f - 32), so in this case 5, 9, 32 are scalar values. The scalar values are denoted by ordinary lower case letters (e.g., x, y etc)"
   ]
  },
  {
   "cell_type": "code",
   "execution_count": 26,
   "id": "b1f1f40f",
   "metadata": {},
   "outputs": [
    {
     "data": {
      "text/plain": [
       "(tensor(5.2000),\n",
       " tensor(6.4000),\n",
       " tensor(0.6250),\n",
       " tensor(-1.2000),\n",
       " tensor(9.1896))"
      ]
     },
     "execution_count": 26,
     "metadata": {},
     "output_type": "execute_result"
    }
   ],
   "source": [
    "# defining scalar values\n",
    "x = torch.tensor(2.0, dtype = torch.float32)\n",
    "y = torch.tensor(3.2, dtype = torch.float32)\n",
    "\n",
    "#mathematical operations here\n",
    "x + y, x*y, x/y, x-y, x**y"
   ]
  },
  {
   "cell_type": "code",
   "execution_count": 27,
   "id": "6e30be7a",
   "metadata": {},
   "outputs": [
    {
     "name": "stdout",
     "output_type": "stream",
     "text": [
      "enter temperature in Fahrenheit:100\n",
      "The temperature in Fahrenheit: 100, and the temperature in Celsius:  37.78C\n"
     ]
    }
   ],
   "source": [
    "temp_fahrenheit = int(input(\"enter temperature in Fahrenheit:\"))\n",
    "\n",
    "def to_celsius(temp_fah):\n",
    "    return 5/9*(temp_fah - 32)\n",
    "\n",
    "print(f'The temperature in Fahrenheit: {temp_fahrenheit}, \\\n",
    "and the temperature in Celsius: {to_celsius(temp_fahrenheit): .2f}C')\n"
   ]
  },
  {
   "cell_type": "markdown",
   "id": "98f5f31d",
   "metadata": {},
   "source": [
    "# Vectors \n",
    "\n",
    "Vectors are simply a list of scalars values, and vectors are donated by bold-face, lower case letters (e.g., <b>x</b>, <b>y</b>, and <b>z</b>)\n",
    "\n",
    "$$\\begin{bmatrix} x1  \\\\ x2 \\\\ ...\\\\ xn \\end{bmatrix}$$\n"
   ]
  },
  {
   "cell_type": "code",
   "execution_count": 29,
   "id": "36f9fbe5",
   "metadata": {},
   "outputs": [
    {
     "name": "stdout",
     "output_type": "stream",
     "text": [
      "x = tensor([[0],\n",
      "        [1],\n",
      "        [2],\n",
      "        [3]])\n",
      "\n",
      "get first element from a vector: 0\n",
      "\n",
      "length of the vector: 4, and shape of the vector: torch.Size([4, 1])\n"
     ]
    }
   ],
   "source": [
    "# create a vector\n",
    "x = torch.arange(4).reshape(4, 1)\n",
    "\n",
    "print(f'x = {x}\\n')\n",
    "\n",
    "#access elements of a vector\n",
    "\n",
    "print(f'get first element from a vector: {x[0].item()}\\n')\n",
    "\n",
    "\n",
    "#check len and shape of a vector\n",
    "print(f'length of the vector: {len(x)}, and shape of the vector: {x.shape}')"
   ]
  },
  {
   "cell_type": "markdown",
   "id": "c29347ca",
   "metadata": {},
   "source": [
    "# Matrices\n",
    "\n",
    "Just as vectors generalize scalars from order zero to order one, matrices generalize vectors from\n",
    "order one to order two.Matrices, which we will typically denote with bold-faced, capital letters\n",
    "(e.g., <b>X</b>, <b>Y</b>, and <b>Z</b>), are represented in code as tensors with two axes. \n",
    "\n",
    "$$\\begin{bmatrix} a11 & a12 & ... & a1n \\\\ a21 & a22 & ... & a2n \\\\ ... & ... & ... & ...\\\\ am1 & am2 & ... & amn \\end{bmatrix}$$"
   ]
  },
  {
   "cell_type": "code",
   "execution_count": 33,
   "id": "296c69b3",
   "metadata": {},
   "outputs": [
    {
     "name": "stdout",
     "output_type": "stream",
     "text": [
      "tensor([[ 0,  1,  2,  3],\n",
      "        [ 4,  5,  6,  7],\n",
      "        [ 8,  9, 10, 11]])\n"
     ]
    },
    {
     "data": {
      "text/plain": [
       "tensor([[ 5,  6],\n",
       "        [ 9, 10]])"
      ]
     },
     "execution_count": 33,
     "metadata": {},
     "output_type": "execute_result"
    }
   ],
   "source": [
    "# create a matrix \n",
    "A = torch.arange(12).reshape(3, 4)\n",
    "print(A)\n",
    "#indexing and slicing\n",
    "A[1:, 1:3]"
   ]
  },
  {
   "cell_type": "code",
   "execution_count": 34,
   "id": "be52321a",
   "metadata": {},
   "outputs": [
    {
     "data": {
      "text/plain": [
       "torch.Size([3, 4])"
      ]
     },
     "execution_count": 34,
     "metadata": {},
     "output_type": "execute_result"
    }
   ],
   "source": [
    "#checking shape and size\n",
    "A.shape"
   ]
  },
  {
   "cell_type": "code",
   "execution_count": 36,
   "id": "5db2fda5",
   "metadata": {},
   "outputs": [
    {
     "data": {
      "text/plain": [
       "torch.Size([4, 3])"
      ]
     },
     "execution_count": 36,
     "metadata": {},
     "output_type": "execute_result"
    }
   ],
   "source": [
    "#Transpose a matrix\n",
    "A.T.shape"
   ]
  },
  {
   "cell_type": "markdown",
   "id": "a6a6d790",
   "metadata": {},
   "source": [
    "# Tensors\n",
    "Just as vectors generalize scalars, and matrices generalize vectors, we can build data structures\n",
    "with even more axes. Tensors (“tensors” in this subsection refer to algebraic objects) give us a\n",
    "generic way of describing n-dimensional arrays with an arbitrary number of axes."
   ]
  },
  {
   "cell_type": "code",
   "execution_count": 38,
   "id": "9ff55a53",
   "metadata": {},
   "outputs": [
    {
     "data": {
      "text/plain": [
       "torch.Size([3, 4, 2])"
      ]
     },
     "execution_count": 38,
     "metadata": {},
     "output_type": "execute_result"
    }
   ],
   "source": [
    "X = torch.arange(24).reshape(3, 4, 2)\n",
    "X.shape"
   ]
  },
  {
   "cell_type": "code",
   "execution_count": null,
   "id": "c0277c68",
   "metadata": {},
   "outputs": [],
   "source": []
  }
 ],
 "metadata": {
  "kernelspec": {
   "display_name": "Python 3 (ipykernel)",
   "language": "python",
   "name": "python3"
  },
  "language_info": {
   "codemirror_mode": {
    "name": "ipython",
    "version": 3
   },
   "file_extension": ".py",
   "mimetype": "text/x-python",
   "name": "python",
   "nbconvert_exporter": "python",
   "pygments_lexer": "ipython3",
   "version": "3.9.5"
  }
 },
 "nbformat": 4,
 "nbformat_minor": 5
}
