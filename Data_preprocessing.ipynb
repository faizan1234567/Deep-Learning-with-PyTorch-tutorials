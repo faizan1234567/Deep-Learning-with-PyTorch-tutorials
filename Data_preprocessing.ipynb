{
 "cells": [
  {
   "cell_type": "markdown",
   "id": "ba972590",
   "metadata": {},
   "source": [
    "# Data Preprocessing \n",
    "In this tutorial, the following topics will be covered:\n",
    "- Conversion to other Python objects\n",
    "    - from Tensor to numpy\n",
    "    - from numpy to Tensor\n",
    "- Data Preprocessing\n",
    "    - Reading the dataset\n",
    "    - Handling Missing Data\n",
    "    - Conversion to the Tensor Format\n",
    "    - Exercise\n",
    "    "
   ]
  },
  {
   "cell_type": "markdown",
   "id": "ec5b397f",
   "metadata": {},
   "source": [
    "As usual, let's start with importing some necessary packages\n",
    "import following packages\n",
    "- pytorch (torch)  \n",
    "- Numpy (for computing)\n",
    "- Pandas (for data manipulation)\n",
    "\n",
    "if any modules does not exist, use pip to install it. i.e, !pip install xxx\n"
   ]
  },
  {
   "cell_type": "code",
   "execution_count": null,
   "id": "f7f4fe0e",
   "metadata": {},
   "outputs": [],
   "source": [
    "!pip3 install pandas"
   ]
  },
  {
   "cell_type": "code",
   "execution_count": null,
   "id": "afa1e09c",
   "metadata": {},
   "outputs": [],
   "source": [
    "import pandas as pd\n",
    "import numpy as np\n",
    "import torch"
   ]
  },
  {
   "cell_type": "markdown",
   "id": "0513c5ce",
   "metadata": {},
   "source": [
    "# Conversion to other Python object\n",
    " - convert to numpy \n",
    " - covert back to tensor from numpy"
   ]
  },
  {
   "cell_type": "code",
   "execution_count": null,
   "id": "add957c9",
   "metadata": {},
   "outputs": [],
   "source": [
    "X = torch.tensor([[2, 1, 2],\n",
    "                  [1, 2, 1],\n",
    "                  [3, 1, 3],\n",
    "                  [4, 1, 3]], dtype = torch.float32)\n",
    "A = ...\n",
    "type(A)"
   ]
  },
  {
   "cell_type": "code",
   "execution_count": null,
   "id": "f8c5775c",
   "metadata": {},
   "outputs": [],
   "source": [
    "X = ...\n",
    "type(X)"
   ]
  },
  {
   "cell_type": "code",
   "execution_count": null,
   "id": "7cbf73d8",
   "metadata": {},
   "outputs": [],
   "source": [
    "# to convert size-1 tensor to scalar we do:\n",
    "\n",
    "a = torch.tensor([2.2])\n",
    "a, a.item(), float(a), int(a)"
   ]
  },
  {
   "cell_type": "markdown",
   "id": "207dfbf3",
   "metadata": {},
   "source": [
    "# Data Preprocessing\n",
    "  - Reading the dataset\n",
    "  - Handling Missing Data\n",
    "  - Conversion to the Tensor Format\n",
    "  - Exercise\n",
    "    "
   ]
  },
  {
   "cell_type": "code",
   "execution_count": null,
   "id": "dbc2170a",
   "metadata": {},
   "outputs": [],
   "source": [
    "import os\n",
    "os.makedirs(os.path.join('..', 'data'), exist_ok = True)\n",
    "data_file = os.path.join('..', 'data', 'house_tiny.csv')\n",
    "with open(data_file, 'w') as f:\n",
    "    f.write('NumRooms, Alley, Price\\n')\n",
    "    f.write('NA, Pave, 127500\\n')\n",
    "    f.write('2, NA, 106000\\n')\n",
    "    f.write('4, NA, 178100\\n')\n",
    "    f.write('NA, NA, 140000\\n')"
   ]
  },
  {
   "cell_type": "code",
   "execution_count": null,
   "id": "21ad3be4",
   "metadata": {},
   "outputs": [],
   "source": [
    "data = pd.read_csv(data_file)\n",
    "print(data)"
   ]
  },
  {
   "cell_type": "code",
   "execution_count": null,
   "id": "1c4d6194",
   "metadata": {},
   "outputs": [],
   "source": [
    "inputs , outputs = ..., ...\n",
    "inputs"
   ]
  },
  {
   "cell_type": "code",
   "execution_count": null,
   "id": "6563102f",
   "metadata": {},
   "outputs": [],
   "source": [
    "# handle missing data entires using fillna method\n",
    "inputs = ...\n",
    "inputs"
   ]
  },
  {
   "cell_type": "code",
   "execution_count": null,
   "id": "d545aada",
   "metadata": {},
   "outputs": [],
   "source": [
    "# handle missing categories \n",
    "inputs = pd.get_dummies(inputs, dummy_na = True)\n",
    "inputs"
   ]
  },
  {
   "cell_type": "markdown",
   "id": "fd14e921",
   "metadata": {},
   "source": [
    "# Conversion to Tensor Format"
   ]
  },
  {
   "cell_type": "code",
   "execution_count": null,
   "id": "df2cac3c",
   "metadata": {},
   "outputs": [],
   "source": [
    "X, y = ..., ...\n",
    "X,y"
   ]
  },
  {
   "cell_type": "markdown",
   "id": "8d7d937f",
   "metadata": {},
   "source": [
    "# Exercise\n",
    "Create a raw dataset with more rows and columns.\n",
    "1. Delete the column with the most missing values.\n",
    "2. Convert the preprocessed dataset to the tensor format."
   ]
  },
  {
   "cell_type": "markdown",
   "id": "3da20a0e",
   "metadata": {},
   "source": [
    "# Next Tutorial\n",
    "In the next tutorial, Linear algebra will be discussed. See you soon"
   ]
  }
 ],
 "metadata": {
  "kernelspec": {
   "display_name": "Python 3 (ipykernel)",
   "language": "python",
   "name": "python3"
  },
  "language_info": {
   "codemirror_mode": {
    "name": "ipython",
    "version": 3
   },
   "file_extension": ".py",
   "mimetype": "text/x-python",
   "name": "python",
   "nbconvert_exporter": "python",
   "pygments_lexer": "ipython3",
   "version": "3.9.5"
  }
 },
 "nbformat": 4,
 "nbformat_minor": 5
}
